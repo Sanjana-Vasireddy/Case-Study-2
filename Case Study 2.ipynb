{
 "cells": [
  {
   "cell_type": "markdown",
   "id": "d06078ea",
   "metadata": {},
   "source": [
    "# Case Study 2 (Customer Analysis)"
   ]
  },
  {
   "cell_type": "code",
   "execution_count": 1,
   "id": "fdb5937e",
   "metadata": {},
   "outputs": [],
   "source": [
    "import pandas as pd\n",
    "import numpy as np\n",
    "import matplotlib.pyplot as plt\n",
    "import seaborn as sns\n",
    "import warnings"
   ]
  },
  {
   "cell_type": "code",
   "execution_count": 2,
   "id": "f3898ebe",
   "metadata": {},
   "outputs": [
    {
     "data": {
      "text/html": [
       "<div>\n",
       "<style scoped>\n",
       "    .dataframe tbody tr th:only-of-type {\n",
       "        vertical-align: middle;\n",
       "    }\n",
       "\n",
       "    .dataframe tbody tr th {\n",
       "        vertical-align: top;\n",
       "    }\n",
       "\n",
       "    .dataframe thead th {\n",
       "        text-align: right;\n",
       "    }\n",
       "</style>\n",
       "<table border=\"1\" class=\"dataframe\">\n",
       "  <thead>\n",
       "    <tr style=\"text-align: right;\">\n",
       "      <th></th>\n",
       "      <th>Unnamed: 0</th>\n",
       "      <th>customer_email</th>\n",
       "      <th>net_revenue</th>\n",
       "      <th>year</th>\n",
       "    </tr>\n",
       "  </thead>\n",
       "  <tbody>\n",
       "    <tr>\n",
       "      <th>0</th>\n",
       "      <td>0</td>\n",
       "      <td>nhknapwsbx@gmail.com</td>\n",
       "      <td>249.92</td>\n",
       "      <td>2015</td>\n",
       "    </tr>\n",
       "    <tr>\n",
       "      <th>1</th>\n",
       "      <td>1</td>\n",
       "      <td>joiuzbvcpn@gmail.com</td>\n",
       "      <td>87.61</td>\n",
       "      <td>2015</td>\n",
       "    </tr>\n",
       "    <tr>\n",
       "      <th>2</th>\n",
       "      <td>2</td>\n",
       "      <td>ukkjctepxt@gmail.com</td>\n",
       "      <td>168.38</td>\n",
       "      <td>2015</td>\n",
       "    </tr>\n",
       "    <tr>\n",
       "      <th>3</th>\n",
       "      <td>3</td>\n",
       "      <td>gykatilzrt@gmail.com</td>\n",
       "      <td>62.40</td>\n",
       "      <td>2015</td>\n",
       "    </tr>\n",
       "    <tr>\n",
       "      <th>4</th>\n",
       "      <td>4</td>\n",
       "      <td>mmsgsrtxah@gmail.com</td>\n",
       "      <td>43.08</td>\n",
       "      <td>2015</td>\n",
       "    </tr>\n",
       "  </tbody>\n",
       "</table>\n",
       "</div>"
      ],
      "text/plain": [
       "   Unnamed: 0         customer_email  net_revenue  year\n",
       "0           0   nhknapwsbx@gmail.com       249.92  2015\n",
       "1           1   joiuzbvcpn@gmail.com        87.61  2015\n",
       "2           2   ukkjctepxt@gmail.com       168.38  2015\n",
       "3           3   gykatilzrt@gmail.com        62.40  2015\n",
       "4           4   mmsgsrtxah@gmail.com        43.08  2015"
      ]
     },
     "execution_count": 2,
     "metadata": {},
     "output_type": "execute_result"
    }
   ],
   "source": [
    "df=pd.read_csv(\"casestudy.csv\")\n",
    "df.head()"
   ]
  },
  {
   "cell_type": "code",
   "execution_count": 3,
   "id": "c17aedd4",
   "metadata": {},
   "outputs": [
    {
     "data": {
      "text/plain": [
       "(685927, 4)"
      ]
     },
     "execution_count": 3,
     "metadata": {},
     "output_type": "execute_result"
    }
   ],
   "source": [
    "df.shape"
   ]
  },
  {
   "cell_type": "code",
   "execution_count": 4,
   "id": "2565302b",
   "metadata": {},
   "outputs": [
    {
     "data": {
      "text/plain": [
       "2017    249987\n",
       "2015    231294\n",
       "2016    204646\n",
       "Name: year, dtype: int64"
      ]
     },
     "execution_count": 4,
     "metadata": {},
     "output_type": "execute_result"
    }
   ],
   "source": [
    "df[\"year\"].value_counts()"
   ]
  },
  {
   "cell_type": "markdown",
   "id": "3e7d0f9b",
   "metadata": {},
   "source": [
    "# Data Exploration"
   ]
  },
  {
   "cell_type": "markdown",
   "id": "0aadf6ff",
   "metadata": {},
   "source": [
    "#### Task1 :Total revenue for the curent year 2016"
   ]
  },
  {
   "cell_type": "code",
   "execution_count": 5,
   "id": "3e9aee0d",
   "metadata": {},
   "outputs": [
    {
     "name": "stdout",
     "output_type": "stream",
     "text": [
      "29036749.19\n",
      "25730943.59\n",
      "31417495.03\n"
     ]
    }
   ],
   "source": [
    "for i in df[\"net_revenue\"].groupby(df[\"year\"]).sum():\n",
    "    print(i)"
   ]
  },
  {
   "cell_type": "code",
   "execution_count": 6,
   "id": "2e30a155",
   "metadata": {},
   "outputs": [
    {
     "name": "stdout",
     "output_type": "stream",
     "text": [
      "Total revenue for current year is: 31417495.030000016\n"
     ]
    }
   ],
   "source": [
    "print(\"Total revenue for current year is:\",df.loc[df[\"year\"]==2017][\"net_revenue\"].sum())"
   ]
  },
  {
   "cell_type": "markdown",
   "id": "0e8b70a6",
   "metadata": {},
   "source": [
    "#### Task 2:New customer revenue\n",
    "    "
   ]
  },
  {
   "cell_type": "code",
   "execution_count": 7,
   "id": "4892c2f9",
   "metadata": {},
   "outputs": [
    {
     "data": {
      "text/html": [
       "<div>\n",
       "<style scoped>\n",
       "    .dataframe tbody tr th:only-of-type {\n",
       "        vertical-align: middle;\n",
       "    }\n",
       "\n",
       "    .dataframe tbody tr th {\n",
       "        vertical-align: top;\n",
       "    }\n",
       "\n",
       "    .dataframe thead th {\n",
       "        text-align: right;\n",
       "    }\n",
       "</style>\n",
       "<table border=\"1\" class=\"dataframe\">\n",
       "  <thead>\n",
       "    <tr style=\"text-align: right;\">\n",
       "      <th></th>\n",
       "      <th>Unnamed: 0</th>\n",
       "      <th>customer_email</th>\n",
       "      <th>net_revenue</th>\n",
       "      <th>year</th>\n",
       "    </tr>\n",
       "  </thead>\n",
       "  <tbody>\n",
       "    <tr>\n",
       "      <th>0</th>\n",
       "      <td>0</td>\n",
       "      <td>nhknapwsbx@gmail.com</td>\n",
       "      <td>249.92</td>\n",
       "      <td>2015</td>\n",
       "    </tr>\n",
       "    <tr>\n",
       "      <th>1</th>\n",
       "      <td>1</td>\n",
       "      <td>joiuzbvcpn@gmail.com</td>\n",
       "      <td>87.61</td>\n",
       "      <td>2015</td>\n",
       "    </tr>\n",
       "    <tr>\n",
       "      <th>2</th>\n",
       "      <td>2</td>\n",
       "      <td>ukkjctepxt@gmail.com</td>\n",
       "      <td>168.38</td>\n",
       "      <td>2015</td>\n",
       "    </tr>\n",
       "    <tr>\n",
       "      <th>3</th>\n",
       "      <td>3</td>\n",
       "      <td>gykatilzrt@gmail.com</td>\n",
       "      <td>62.40</td>\n",
       "      <td>2015</td>\n",
       "    </tr>\n",
       "    <tr>\n",
       "      <th>4</th>\n",
       "      <td>4</td>\n",
       "      <td>mmsgsrtxah@gmail.com</td>\n",
       "      <td>43.08</td>\n",
       "      <td>2015</td>\n",
       "    </tr>\n",
       "  </tbody>\n",
       "</table>\n",
       "</div>"
      ],
      "text/plain": [
       "   Unnamed: 0         customer_email  net_revenue  year\n",
       "0           0   nhknapwsbx@gmail.com       249.92  2015\n",
       "1           1   joiuzbvcpn@gmail.com        87.61  2015\n",
       "2           2   ukkjctepxt@gmail.com       168.38  2015\n",
       "3           3   gykatilzrt@gmail.com        62.40  2015\n",
       "4           4   mmsgsrtxah@gmail.com        43.08  2015"
      ]
     },
     "execution_count": 7,
     "metadata": {},
     "output_type": "execute_result"
    }
   ],
   "source": [
    "df.head()"
   ]
  },
  {
   "cell_type": "code",
   "execution_count": 8,
   "id": "200cba7d",
   "metadata": {},
   "outputs": [],
   "source": [
    "Revenue_new_cust_2017=21769213\n",
    "Revenue_new_cust_2016=17206367"
   ]
  },
  {
   "cell_type": "code",
   "execution_count": 9,
   "id": "2b515646",
   "metadata": {},
   "outputs": [],
   "source": [
    "data_2015=df.loc[df[\"year\"]==2015]\n",
    "data_2016=df.loc[df[\"year\"]==2016]\n",
    "data_2017=df.loc[df[\"year\"]==2017]"
   ]
  },
  {
   "cell_type": "code",
   "execution_count": 10,
   "id": "dc88c06e",
   "metadata": {},
   "outputs": [
    {
     "name": "stdout",
     "output_type": "stream",
     "text": [
      "21769213\n"
     ]
    }
   ],
   "source": [
    "df.loc[df[\"year\"]==2017][\"net_revenue\"].sum()\n",
    "print(Revenue_new_cust_2017)"
   ]
  },
  {
   "cell_type": "code",
   "execution_count": 11,
   "id": "cc1b804c",
   "metadata": {},
   "outputs": [
    {
     "name": "stdout",
     "output_type": "stream",
     "text": [
      "17206367\n"
     ]
    }
   ],
   "source": [
    "df.loc[df[\"year\"]==2016][\"net_revenue\"].sum()\n",
    "print(Revenue_new_cust_2016)"
   ]
  },
  {
   "cell_type": "markdown",
   "id": "2bc0d9ee",
   "metadata": {},
   "source": [
    "#### Task 3: Existing Customer Growth. "
   ]
  },
  {
   "cell_type": "code",
   "execution_count": 12,
   "id": "2c82f5ee",
   "metadata": {
    "scrolled": true
   },
   "outputs": [
    {
     "name": "stdout",
     "output_type": "stream",
     "text": [
      "Existing customer growth \n",
      " 18693\n"
     ]
    }
   ],
   "source": [
    "emails_2015=data_2015[\"customer_email\"]\n",
    "emails_2016=data_2016[\"customer_email\"]\n",
    "emails_2017=data_2017[\"customer_email\"]\n",
    "print(\"Existing customer growth \\n\",len(data_2017[\"customer_email\"])-len(data_2015[\"customer_email\"]))\n"
   ]
  },
  {
   "cell_type": "markdown",
   "id": "8aaf1771",
   "metadata": {},
   "source": [
    "#### Task 4:Revenue lost from attrition"
   ]
  },
  {
   "cell_type": "code",
   "execution_count": 13,
   "id": "35176bbb",
   "metadata": {},
   "outputs": [
    {
     "data": {
      "text/plain": [
       "4562846"
      ]
     },
     "execution_count": 13,
     "metadata": {},
     "output_type": "execute_result"
    }
   ],
   "source": [
    "Revenue_new_cust_2017- Revenue_new_cust_2016"
   ]
  },
  {
   "cell_type": "markdown",
   "id": "8ec543cf",
   "metadata": {},
   "source": [
    "#### Task 5:Existing Customer Revenue Current Year "
   ]
  },
  {
   "cell_type": "code",
   "execution_count": 14,
   "id": "3a7fc8ca",
   "metadata": {},
   "outputs": [
    {
     "data": {
      "text/plain": [
       "31417495.030000016"
      ]
     },
     "execution_count": 14,
     "metadata": {},
     "output_type": "execute_result"
    }
   ],
   "source": [
    "df.loc[df[\"year\"]==2017][\"net_revenue\"].sum()"
   ]
  },
  {
   "cell_type": "markdown",
   "id": "422e98c3",
   "metadata": {},
   "source": [
    "#### Task 6: Existing Customer Revenue Prior Year"
   ]
  },
  {
   "cell_type": "code",
   "execution_count": 15,
   "id": "d651436c",
   "metadata": {},
   "outputs": [
    {
     "data": {
      "text/plain": [
       "25730943.59"
      ]
     },
     "execution_count": 15,
     "metadata": {},
     "output_type": "execute_result"
    }
   ],
   "source": [
    "df.loc[df[\"year\"]==2016][\"net_revenue\"].sum()"
   ]
  },
  {
   "cell_type": "markdown",
   "id": "a051462e",
   "metadata": {},
   "source": [
    "#### Task 7:Total Customers Current Year"
   ]
  },
  {
   "cell_type": "code",
   "execution_count": 16,
   "id": "c3c7d6e6",
   "metadata": {},
   "outputs": [
    {
     "name": "stdout",
     "output_type": "stream",
     "text": [
      "current_customers: 249987\n"
     ]
    }
   ],
   "source": [
    "emails_2017=data_2017[\"customer_email\"]\n",
    "print(\"current_customers:\",len(emails_2017))"
   ]
  },
  {
   "cell_type": "markdown",
   "id": "dc698161",
   "metadata": {},
   "source": [
    "#### Task 8:Total Customers Previous Year"
   ]
  },
  {
   "cell_type": "code",
   "execution_count": 17,
   "id": "89839625",
   "metadata": {},
   "outputs": [
    {
     "name": "stdout",
     "output_type": "stream",
     "text": [
      "2016_customers: 204646\n"
     ]
    }
   ],
   "source": [
    "emails_2016=data_2016[\"customer_email\"]\n",
    "print(\"2016_customers:\",len(emails_2016))"
   ]
  },
  {
   "cell_type": "markdown",
   "id": "9a67dfc5",
   "metadata": {},
   "source": [
    "#### Task 9: New Customers"
   ]
  },
  {
   "cell_type": "code",
   "execution_count": 18,
   "id": "47916bbb",
   "metadata": {},
   "outputs": [
    {
     "data": {
      "text/plain": [
       "18693"
      ]
     },
     "execution_count": 18,
     "metadata": {},
     "output_type": "execute_result"
    }
   ],
   "source": [
    "len(emails_2017)-len(emails_2015)"
   ]
  },
  {
   "cell_type": "markdown",
   "id": "c10c4fa5",
   "metadata": {},
   "source": [
    "#### Task 10:Lost Customers"
   ]
  },
  {
   "cell_type": "code",
   "execution_count": 19,
   "id": "445f3519",
   "metadata": {},
   "outputs": [
    {
     "data": {
      "text/plain": [
       "26648"
      ]
     },
     "execution_count": 19,
     "metadata": {},
     "output_type": "execute_result"
    }
   ],
   "source": [
    "len(emails_2015)-len(emails_2016)"
   ]
  },
  {
   "cell_type": "markdown",
   "id": "f02c5f7a",
   "metadata": {},
   "source": [
    "### Visualization"
   ]
  },
  {
   "cell_type": "code",
   "execution_count": 20,
   "id": "1d061b4d",
   "metadata": {},
   "outputs": [
    {
     "data": {
      "text/plain": [
       "<AxesSubplot:xlabel='year', ylabel='count'>"
      ]
     },
     "execution_count": 20,
     "metadata": {},
     "output_type": "execute_result"
    },
    {
     "data": {
      "image/png": "[encoded data removed]",
      "text/plain": [
       "<Figure size 432x288 with 1 Axes>"
      ]
     },
     "metadata": {
      "needs_background": "light"
     },
     "output_type": "display_data"
    }
   ],
   "source": [
    "sns.countplot(data=df,x=df[\"year\"])"
   ]
  },
  {
   "cell_type": "code",
   "execution_count": 21,
   "id": "9cefff52",
   "metadata": {},
   "outputs": [],
   "source": [
    "emails_2015=data_2015[\"customer_email\"]\n",
    "emails_2016=data_2016[\"customer_email\"]\n",
    "emails_2017=data_2017[\"customer_email\"]\n",
    "\n",
    "customers=[emails_2015,emails_2016,emails_2017]"
   ]
  },
  {
   "cell_type": "markdown",
   "id": "8d469b83",
   "metadata": {},
   "source": [
    "## Checking for null values"
   ]
  },
  {
   "cell_type": "code",
   "execution_count": 22,
   "id": "1c6becb0",
   "metadata": {
    "scrolled": true
   },
   "outputs": [
    {
     "data": {
      "text/plain": [
       "<AxesSubplot:>"
      ]
     },
     "execution_count": 22,
     "metadata": {},
     "output_type": "execute_result"
    },
    {
     "data": {
      "image/png": "[encoded data removed]",
      "text/plain": [
       "<Figure size 432x288 with 2 Axes>"
      ]
     },
     "metadata": {
      "needs_background": "light"
     },
     "output_type": "display_data"
    }
   ],
   "source": [
    "sns.heatmap(df.isnull())"
   ]
  },
  {
   "cell_type": "markdown",
   "id": "f2754234",
   "metadata": {},
   "source": [
    "## Plotting Revenue"
   ]
  },
  {
   "cell_type": "code",
   "execution_count": 23,
   "id": "a5271ed7",
   "metadata": {
    "scrolled": true
   },
   "outputs": [
    {
     "data": {
      "text/plain": [
       "<AxesSubplot:xlabel='net_revenue', ylabel='Count'>"
      ]
     },
     "execution_count": 23,
     "metadata": {},
     "output_type": "execute_result"
    },
    {
     "data": {
      "image/png": "[encoded data removed]",
      "text/plain": [
       "<Figure size 432x288 with 1 Axes>"
      ]
     },
     "metadata": {
      "needs_background": "light"
     },
     "output_type": "display_data"
    }
   ],
   "source": [
    "sns.histplot(data=df,x=df[\"net_revenue\"])"
   ]
  },
  {
   "cell_type": "code",
   "execution_count": 24,
   "id": "8cacd187",
   "metadata": {
    "scrolled": true
   },
   "outputs": [
    {
     "name": "stderr",
     "output_type": "stream",
     "text": [
      "/opt/homebrew/anaconda3/lib/python3.9/site-packages/seaborn/_decorators.py:36: FutureWarning: Pass the following variable as a keyword arg: x. From version 0.12, the only valid positional argument will be `data`, and passing other arguments without an explicit keyword will result in an error or misinterpretation.\n",
      "  warnings.warn(\n"
     ]
    },
    {
     "data": {
      "text/plain": [
       "<AxesSubplot:xlabel='net_revenue', ylabel='count'>"
      ]
     },
     "execution_count": 24,
     "metadata": {},
     "output_type": "execute_result"
    },
    {
     "data": {
      "image/png": "[encoded data removed]",
      "text/plain": [
       "<Figure size 432x288 with 1 Axes>"
      ]
     },
     "metadata": {
      "needs_background": "light"
     },
     "output_type": "display_data"
    }
   ],
   "source": [
    "sns.countplot(df[\"net_revenue\"].groupby(df[\"year\"]).sum(),data=df,hue=df[\"year\"])\n",
    "\n",
    "    "
   ]
  },
  {
   "cell_type": "markdown",
   "id": "b290d09a",
   "metadata": {},
   "source": [
    "Observation:\n",
    "As the revenue increses, more customers accumulate as there is increase in capital."
   ]
  }
 ],
 "metadata": {
  "kernelspec": {
   "display_name": "Python 3 (ipykernel)",
   "language": "python",
   "name": "python3"
  },
  "language_info": {
   "codemirror_mode": {
    "name": "ipython",
    "version": 3
   },
   "file_extension": ".py",
   "mimetype": "text/x-python",
   "name": "python",
   "nbconvert_exporter": "python",
   "pygments_lexer": "ipython3",
   "version": "3.9.7"
  }
 },
 "nbformat": 4,
 "nbformat_minor": 5
}
